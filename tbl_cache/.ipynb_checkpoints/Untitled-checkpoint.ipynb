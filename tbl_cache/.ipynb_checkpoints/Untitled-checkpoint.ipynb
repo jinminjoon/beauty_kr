{
 "cells": [
  {
   "cell_type": "code",
   "execution_count": 187,
   "id": "2bc23b7a-4185-4f70-a45c-7d7abb243b8f",
   "metadata": {},
   "outputs": [],
   "source": [
    "# necessary\n",
    "import pandas as pd\n",
    "import numpy as np\n",
    "import pickle\n",
    "from tqdm.auto import tqdm\n",
    "import os\n",
    "import ast\n",
    "import re\n",
    "import time\n",
    "import copy\n",
    "import difflib\n",
    "from itertools import chain, repeat\n",
    "\n",
    "# preprocessing\n",
    "from sklearn import preprocessing\n",
    "\n",
    "# visualization\n",
    "import seaborn as sns\n",
    "import matplotlib.pyplot as plt"
   ]
  },
  {
   "cell_type": "code",
   "execution_count": 175,
   "id": "a7392769-2f42-418c-9a32-098508f0f4ec",
   "metadata": {},
   "outputs": [],
   "source": [
    "with open('compared_list.txt', 'rb') as f:\n",
    "    compared_list = pickle.load(f)\n",
    "    \n",
    "# with open('mapped_list.txt', 'rb') as f:\n",
    "#     mapped_list = pickle.load(f)\n",
    "    \n",
    "# l = compared_list + mapped_list\n"
   ]
  },
  {
   "cell_type": "code",
   "execution_count": 176,
   "id": "41608c68-28de-490c-888b-19760b48471d",
   "metadata": {},
   "outputs": [
    {
     "name": "stdout",
     "output_type": "stream",
     "text": [
      "<class 'pandas.core.frame.DataFrame'>\n",
      "RangeIndex: 2308988 entries, 0 to 2308987\n",
      "Data columns (total 12 columns):\n",
      " #   Column            Dtype  \n",
      "---  ------            -----  \n",
      " 0   id_1              int64  \n",
      " 1   id_0              int64  \n",
      " 2   title_1           object \n",
      " 3   title_0           object \n",
      " 4   brand_name        object \n",
      " 5   category          object \n",
      " 6   table_name        object \n",
      " 7   dependency_ratio  float64\n",
      " 8   dependency_count  float64\n",
      " 9   similarity        float64\n",
      " 10  max_length        int64  \n",
      " 11  min_length        int64  \n",
      "dtypes: float64(3), int64(4), object(5)\n",
      "memory usage: 211.4+ MB\n"
     ]
    }
   ],
   "source": [
    "columns = ['id_1', 'id_0', 'title_1', 'title_0', 'brand_name', 'category', 'table_name', 'dependency_ratio', 'dependency_count', 'similarity', 'max_length', 'min_length']\n",
    "df = pd.DataFrame(compared_list, columns=columns)\n",
    "df.info()"
   ]
  },
  {
   "cell_type": "code",
   "execution_count": 180,
   "id": "67af3c52-ff04-4330-8302-ff2d6350b248",
   "metadata": {},
   "outputs": [],
   "source": [
    "compared_df = df.copy()\n",
    "\n",
    "''' 여기서 매핑 기준 파라미터 값을 변경할 수 있습니다 '''\n",
    "params = {\n",
    "    'min_length': 6, # product name minimum length\n",
    "    'min_token': 3, # product name token minimum length\n",
    "    'levenshtein_similarity': round(5/6, 4) # similarity minimum value\n",
    "}\n",
    "\n",
    "min_len = params['min_length']\n",
    "min_tk = params['min_token']\n",
    "min_sim = params['levenshtein_similarity']\n",
    "\n",
    "# mapping group 0: simimlarity == 1 & min_length >= min_len\n",
    "grp_0 = compared_df[(compared_df.similarity==1) & (compared_df.min_length>=min_len)]\n",
    "grp_sim = grp_0.drop_duplicates(subset=['id_1', 'table_name'], keep='first').reset_index(drop=True)\n",
    "\n",
    "# mapping group 1: simimlarity != 1 & dependency_ratio = 1 & min_length >= min_len\n",
    "grp_dedup = pd.concat([compared_df, grp_0]).drop_duplicates(subset=['id_1', 'table_name'], keep=False).reset_index(drop=True)\n",
    "grp_1 = grp_dedup[(grp_dedup.similarity!=1) & (grp_dedup.dependency_ratio==1) & (grp_dedup.min_length>=min_len)].sort_values(by=['id_1', 'table_name', 'dependency_count', 'similarity'], ascending=False)\n",
    "grp_dep = grp_1.drop_duplicates(subset=['id_1', 'table_name'], keep='first').reset_index(drop=True)\n",
    "\n",
    "# mapping group 2: simimlarity != 1 & dependency_ratio != 1 & min_length >= min_len & levenshtein_similarity >= min_sim\n",
    "grp_dedup_ = pd.concat([compared_df, grp_0, grp_1]).drop_duplicates(subset=['id_1', 'table_name'], keep=False).reset_index(drop=True)\n",
    "grp_2 = grp_dedup_[(grp_dedup_.similarity>=min_sim) & (grp_dedup_.min_length>=min_len)].sort_values(by=['id_1', 'table_name', 'similarity', 'dependency_count'], ascending=False)\n",
    "grp_levenshtein = grp_2.drop_duplicates(subset=['id_1', 'table_name'], keep='first').reset_index(drop=True)\n",
    "\n",
    "# concat\n",
    "mapped_df = pd.concat([grp_sim, grp_dep, grp_levenshtein]).reset_index(drop=True)"
   ]
  },
  {
   "cell_type": "code",
   "execution_count": null,
   "id": "4088ab35-a17d-40ca-8c47-1b8043f0cc87",
   "metadata": {},
   "outputs": [],
   "source": []
  },
  {
   "cell_type": "code",
   "execution_count": null,
   "id": "43c8ab23-26b0-460d-b9a6-20ff125ddbae",
   "metadata": {},
   "outputs": [],
   "source": []
  },
  {
   "cell_type": "code",
   "execution_count": 198,
   "id": "af7b3ed5-6ba2-4157-a638-5ec7bb06505a",
   "metadata": {},
   "outputs": [
    {
     "data": {
      "text/html": [
       "<div>\n",
       "<style scoped>\n",
       "    .dataframe tbody tr th:only-of-type {\n",
       "        vertical-align: middle;\n",
       "    }\n",
       "\n",
       "    .dataframe tbody tr th {\n",
       "        vertical-align: top;\n",
       "    }\n",
       "\n",
       "    .dataframe thead th {\n",
       "        text-align: right;\n",
       "    }\n",
       "</style>\n",
       "<table border=\"1\" class=\"dataframe\">\n",
       "  <thead>\n",
       "    <tr style=\"text-align: right;\">\n",
       "      <th></th>\n",
       "      <th>id_1</th>\n",
       "      <th>id_0</th>\n",
       "      <th>title_1</th>\n",
       "      <th>title_0</th>\n",
       "      <th>brand_name</th>\n",
       "      <th>category</th>\n",
       "      <th>table_name</th>\n",
       "      <th>dependency_ratio</th>\n",
       "      <th>dependency_count</th>\n",
       "      <th>similarity</th>\n",
       "      <th>max_length</th>\n",
       "      <th>min_length</th>\n",
       "    </tr>\n",
       "  </thead>\n",
       "  <tbody>\n",
       "  </tbody>\n",
       "</table>\n",
       "</div>"
      ],
      "text/plain": [
       "Empty DataFrame\n",
       "Columns: [id_1, id_0, title_1, title_0, brand_name, category, table_name, dependency_ratio, dependency_count, similarity, max_length, min_length]\n",
       "Index: []"
      ]
     },
     "execution_count": 198,
     "metadata": {},
     "output_type": "execute_result"
    }
   ],
   "source": []
  },
  {
   "cell_type": "code",
   "execution_count": 216,
   "id": "c7895150-96cd-471c-81ad-27a9a52f7c80",
   "metadata": {
    "tags": []
   },
   "outputs": [],
   "source": [
    "params = {\n",
    "    'min_length': 6, # product name minimum length\n",
    "    'min_token': 3, # product name token minimum length\n",
    "    'levenshtein_similarity': round(5/6, 4) # similarity minimum value\n",
    "}\n",
    "\n",
    "min_len = params['min_length']\n",
    "min_tk = params['min_token']\n",
    "min_sim = params['levenshtein_similarity']\n",
    "\n",
    "# mapping group 0: simimlarity == 1 & min_length >= min_len\n",
    "grp_0 = compared_df[(compared_df.similarity==1) & (compared_df.min_length>=min_len)]\n",
    "grp_sim = grp_0.drop_duplicates(subset=['id_1', 'table_name'], keep='first').reset_index(drop=True)\n",
    "\n",
    "# mapping group 1: simimlarity != 1 & dependency_ratio = 1 & min_length >= min_len\n",
    "grp_1 = compared_df[(compared_df.similarity!=1) & (compared_df.dependency_ratio==1) & (compared_df.min_length>=min_len)]\n",
    "grp_dep = grp_1.sort_values(by=['dependency_count', 'similarity'], ascending=False).drop_duplicates(subset=['id_1', 'table_name'], keep='first').reset_index(drop=True)\n",
    "\n",
    "# mapping group 2: simimlarity != 1 & dependency_ratio != 1 & min_length >= min_len & levenshtein_similarity >= min_sim\n",
    "grp_2 = compared_df[(compared_df.similarity!=1) & (compared_df.dependency_ratio!=1) & (compared_df.min_length>=min_len) & (grp_2.similarity>=min_sim)]\n",
    "grp_levenshtein = grp_2.sort_values(by=['similarity', 'dependency_count'], ascending=False).drop_duplicates(subset=['id_1', 'table_name'], keep='first').reset_index(drop=True)\n",
    "\n",
    "# concat & drop dup\n",
    "df_concat = pd.concat([grp_sim, grp_dep, grp_levenshtein])\n",
    "mapped_df = df_concat.sort_values(by=['dependency_ratio', 'dependency_count', 'similarity']).drop_duplicates(subset=['id_1', 'table_name'], keep='first').reset_index(drop=True)"
   ]
  },
  {
   "cell_type": "code",
   "execution_count": 213,
   "id": "0f53285a-0202-436d-b573-9d84b09614da",
   "metadata": {
    "tags": []
   },
   "outputs": [
    {
     "data": {
      "text/html": [
       "<div>\n",
       "<style scoped>\n",
       "    .dataframe tbody tr th:only-of-type {\n",
       "        vertical-align: middle;\n",
       "    }\n",
       "\n",
       "    .dataframe tbody tr th {\n",
       "        vertical-align: top;\n",
       "    }\n",
       "\n",
       "    .dataframe thead th {\n",
       "        text-align: right;\n",
       "    }\n",
       "</style>\n",
       "<table border=\"1\" class=\"dataframe\">\n",
       "  <thead>\n",
       "    <tr style=\"text-align: right;\">\n",
       "      <th></th>\n",
       "      <th>id_1</th>\n",
       "      <th>id_0</th>\n",
       "      <th>title_1</th>\n",
       "      <th>title_0</th>\n",
       "      <th>brand_name</th>\n",
       "      <th>category</th>\n",
       "      <th>table_name</th>\n",
       "      <th>dependency_ratio</th>\n",
       "      <th>dependency_count</th>\n",
       "      <th>similarity</th>\n",
       "      <th>max_length</th>\n",
       "      <th>min_length</th>\n",
       "    </tr>\n",
       "  </thead>\n",
       "  <tbody>\n",
       "    <tr>\n",
       "      <th>0</th>\n",
       "      <td>0</td>\n",
       "      <td>52314</td>\n",
       "      <td>화이트닝 포어 아이크림</td>\n",
       "      <td>화이트닝 포어 아이크림</td>\n",
       "      <td>이니스프리</td>\n",
       "      <td>크림</td>\n",
       "      <td>naver_beauty_product_info_extended_v3_220124</td>\n",
       "      <td>NaN</td>\n",
       "      <td>NaN</td>\n",
       "      <td>1.0000</td>\n",
       "      <td>10</td>\n",
       "      <td>10</td>\n",
       "    </tr>\n",
       "    <tr>\n",
       "      <th>1</th>\n",
       "      <td>0</td>\n",
       "      <td>106521</td>\n",
       "      <td>글로우 쿠션 본품 리필 spf50+ pa+++</td>\n",
       "      <td>글로우 쿠션 spf50+ pa+++</td>\n",
       "      <td>3ce</td>\n",
       "      <td>베이스메이크업</td>\n",
       "      <td>naver_beauty_product_info_extended_v4_220311</td>\n",
       "      <td>1.0000</td>\n",
       "      <td>4.0</td>\n",
       "      <td>0.8000</td>\n",
       "      <td>20</td>\n",
       "      <td>16</td>\n",
       "    </tr>\n",
       "    <tr>\n",
       "      <th>2</th>\n",
       "      <td>1</td>\n",
       "      <td>72831</td>\n",
       "      <td>렐릭시르 뒤 마라부</td>\n",
       "      <td>렐릭시르 뒤 마라부</td>\n",
       "      <td>가란시아</td>\n",
       "      <td>에센스</td>\n",
       "      <td>naver_beauty_product_info_extended_v1_211217</td>\n",
       "      <td>NaN</td>\n",
       "      <td>NaN</td>\n",
       "      <td>1.0000</td>\n",
       "      <td>8</td>\n",
       "      <td>8</td>\n",
       "    </tr>\n",
       "    <tr>\n",
       "      <th>3</th>\n",
       "      <td>1</td>\n",
       "      <td>33336</td>\n",
       "      <td>화산송이 클레이 블랙헤드 마스크</td>\n",
       "      <td>화산송이 클레이 블랙헤드 마스크</td>\n",
       "      <td>1.618</td>\n",
       "      <td>마스크/팩</td>\n",
       "      <td>naver_beauty_product_info_extended_v2_211231</td>\n",
       "      <td>NaN</td>\n",
       "      <td>NaN</td>\n",
       "      <td>1.0000</td>\n",
       "      <td>14</td>\n",
       "      <td>14</td>\n",
       "    </tr>\n",
       "    <tr>\n",
       "      <th>4</th>\n",
       "      <td>1</td>\n",
       "      <td>86545</td>\n",
       "      <td>블랙티 유스 인핸싱 앰플</td>\n",
       "      <td>블랙티 유스 인핸싱 앰플</td>\n",
       "      <td>이니스프리</td>\n",
       "      <td>에센스</td>\n",
       "      <td>naver_beauty_product_info_extended_v3_220124</td>\n",
       "      <td>NaN</td>\n",
       "      <td>NaN</td>\n",
       "      <td>1.0000</td>\n",
       "      <td>10</td>\n",
       "      <td>10</td>\n",
       "    </tr>\n",
       "    <tr>\n",
       "      <th>...</th>\n",
       "      <td>...</td>\n",
       "      <td>...</td>\n",
       "      <td>...</td>\n",
       "      <td>...</td>\n",
       "      <td>...</td>\n",
       "      <td>...</td>\n",
       "      <td>...</td>\n",
       "      <td>...</td>\n",
       "      <td>...</td>\n",
       "      <td>...</td>\n",
       "      <td>...</td>\n",
       "      <td>...</td>\n",
       "    </tr>\n",
       "    <tr>\n",
       "      <th>49384</th>\n",
       "      <td>42787</td>\n",
       "      <td>105581</td>\n",
       "      <td>피톤치드 포밍 핸드워시</td>\n",
       "      <td>피톤치드 포밍 핸드워시</td>\n",
       "      <td>힐링버드</td>\n",
       "      <td>바디케어</td>\n",
       "      <td>naver_beauty_product_info_extended_v2_211231</td>\n",
       "      <td>NaN</td>\n",
       "      <td>NaN</td>\n",
       "      <td>1.0000</td>\n",
       "      <td>10</td>\n",
       "      <td>10</td>\n",
       "    </tr>\n",
       "    <tr>\n",
       "      <th>49385</th>\n",
       "      <td>42788</td>\n",
       "      <td>105609</td>\n",
       "      <td>보태니컬 수플레 바디크림 프리지아 앤 그린부케향</td>\n",
       "      <td>보태니컬 수플레 바디크림 프리지아 그린부케 향</td>\n",
       "      <td>힐링버드</td>\n",
       "      <td>바디케어</td>\n",
       "      <td>naver_beauty_product_info_extended_v2_211231</td>\n",
       "      <td>0.6667</td>\n",
       "      <td>4.0</td>\n",
       "      <td>0.9524</td>\n",
       "      <td>21</td>\n",
       "      <td>20</td>\n",
       "    </tr>\n",
       "    <tr>\n",
       "      <th>49386</th>\n",
       "      <td>42789</td>\n",
       "      <td>105606</td>\n",
       "      <td>보태니컬 바디워시 프리지아 앤 그린부케향</td>\n",
       "      <td>보태니컬 바디워시 프리지아 그린부케 향</td>\n",
       "      <td>힐링버드</td>\n",
       "      <td>바디케어</td>\n",
       "      <td>naver_beauty_product_info_extended_v2_211231</td>\n",
       "      <td>0.6000</td>\n",
       "      <td>3.0</td>\n",
       "      <td>0.9444</td>\n",
       "      <td>18</td>\n",
       "      <td>17</td>\n",
       "    </tr>\n",
       "    <tr>\n",
       "      <th>49387</th>\n",
       "      <td>42790</td>\n",
       "      <td>105600</td>\n",
       "      <td>울트라 프로틴 노워시 앰플 트리트먼트</td>\n",
       "      <td>울트라 프로틴 노워시 앰플 트리트먼트</td>\n",
       "      <td>힐링버드</td>\n",
       "      <td>헤어케어</td>\n",
       "      <td>naver_beauty_product_info_extended_v2_211231</td>\n",
       "      <td>NaN</td>\n",
       "      <td>NaN</td>\n",
       "      <td>1.0000</td>\n",
       "      <td>16</td>\n",
       "      <td>16</td>\n",
       "    </tr>\n",
       "    <tr>\n",
       "      <th>49388</th>\n",
       "      <td>42860</td>\n",
       "      <td>41694</td>\n",
       "      <td>바오밥 트리베일링 바디 로션</td>\n",
       "      <td>힙스 바오밥 트리베일링 바디로션</td>\n",
       "      <td>팜스메틱</td>\n",
       "      <td>바디케어</td>\n",
       "      <td>naver_beauty_product_info_extended_v2_211231</td>\n",
       "      <td>0.5000</td>\n",
       "      <td>2.0</td>\n",
       "      <td>0.8571</td>\n",
       "      <td>14</td>\n",
       "      <td>12</td>\n",
       "    </tr>\n",
       "  </tbody>\n",
       "</table>\n",
       "<p>49389 rows × 12 columns</p>\n",
       "</div>"
      ],
      "text/plain": [
       "        id_1    id_0                     title_1                    title_0  \\\n",
       "0          0   52314                화이트닝 포어 아이크림               화이트닝 포어 아이크림   \n",
       "1          0  106521   글로우 쿠션 본품 리필 spf50+ pa+++        글로우 쿠션 spf50+ pa+++   \n",
       "2          1   72831                  렐릭시르 뒤 마라부                 렐릭시르 뒤 마라부   \n",
       "3          1   33336           화산송이 클레이 블랙헤드 마스크          화산송이 클레이 블랙헤드 마스크   \n",
       "4          1   86545               블랙티 유스 인핸싱 앰플              블랙티 유스 인핸싱 앰플   \n",
       "...      ...     ...                         ...                        ...   \n",
       "49384  42787  105581                피톤치드 포밍 핸드워시               피톤치드 포밍 핸드워시   \n",
       "49385  42788  105609  보태니컬 수플레 바디크림 프리지아 앤 그린부케향  보태니컬 수플레 바디크림 프리지아 그린부케 향   \n",
       "49386  42789  105606      보태니컬 바디워시 프리지아 앤 그린부케향      보태니컬 바디워시 프리지아 그린부케 향   \n",
       "49387  42790  105600        울트라 프로틴 노워시 앰플 트리트먼트       울트라 프로틴 노워시 앰플 트리트먼트   \n",
       "49388  42860   41694             바오밥 트리베일링 바디 로션          힙스 바오밥 트리베일링 바디로션   \n",
       "\n",
       "      brand_name category                                    table_name  \\\n",
       "0          이니스프리       크림  naver_beauty_product_info_extended_v3_220124   \n",
       "1            3ce  베이스메이크업  naver_beauty_product_info_extended_v4_220311   \n",
       "2           가란시아      에센스  naver_beauty_product_info_extended_v1_211217   \n",
       "3          1.618    마스크/팩  naver_beauty_product_info_extended_v2_211231   \n",
       "4          이니스프리      에센스  naver_beauty_product_info_extended_v3_220124   \n",
       "...          ...      ...                                           ...   \n",
       "49384       힐링버드     바디케어  naver_beauty_product_info_extended_v2_211231   \n",
       "49385       힐링버드     바디케어  naver_beauty_product_info_extended_v2_211231   \n",
       "49386       힐링버드     바디케어  naver_beauty_product_info_extended_v2_211231   \n",
       "49387       힐링버드     헤어케어  naver_beauty_product_info_extended_v2_211231   \n",
       "49388       팜스메틱     바디케어  naver_beauty_product_info_extended_v2_211231   \n",
       "\n",
       "       dependency_ratio  dependency_count  similarity  max_length  min_length  \n",
       "0                   NaN               NaN      1.0000          10          10  \n",
       "1                1.0000               4.0      0.8000          20          16  \n",
       "2                   NaN               NaN      1.0000           8           8  \n",
       "3                   NaN               NaN      1.0000          14          14  \n",
       "4                   NaN               NaN      1.0000          10          10  \n",
       "...                 ...               ...         ...         ...         ...  \n",
       "49384               NaN               NaN      1.0000          10          10  \n",
       "49385            0.6667               4.0      0.9524          21          20  \n",
       "49386            0.6000               3.0      0.9444          18          17  \n",
       "49387               NaN               NaN      1.0000          16          16  \n",
       "49388            0.5000               2.0      0.8571          14          12  \n",
       "\n",
       "[49389 rows x 12 columns]"
      ]
     },
     "execution_count": 213,
     "metadata": {},
     "output_type": "execute_result"
    }
   ],
   "source": [
    "df_concat = pd.concat([grp_sim, grp_dep, grp_levenshtein])\n",
    "mapped_df = df_concat.sort_values(by=['dependency_ratio', 'dependency_count', 'similarity']).drop_duplicates(subset=['id_1', 'table_name'], keep='first').reset_index(drop=True)"
   ]
  },
  {
   "cell_type": "code",
   "execution_count": 235,
   "id": "12c598af-faea-4c9f-b4af-f82e335edc51",
   "metadata": {},
   "outputs": [
    {
     "name": "stdout",
     "output_type": "stream",
     "text": [
      "\t\n",
      " - 매핑 된 글로우픽 상품 수: 24055\n",
      " \t\n",
      " - 매핑 된 네이버 상품 수: 49389\n",
      "\n"
     ]
    }
   ],
   "source": [
    "mapped_prds = mapped_df.id_0.unique()\n",
    "mapping_prds = mapped_df.groupby(['id_1', 'table_name']).size().index\n",
    "print(f'\\t\\n - 매핑 된 글로우픽 상품 수: {len(mapped_prds)}\\n \\t\\n - 매핑 된 네이버 상품 수: {len(mapping_prds)}\\n')"
   ]
  },
  {
   "cell_type": "code",
   "execution_count": 224,
   "id": "0e32d940-8cd1-4e11-a2b7-0ae09d76bc23",
   "metadata": {
    "tags": []
   },
   "outputs": [
    {
     "name": "stdout",
     "output_type": "stream",
     "text": [
      "\n",
      "\tComplete!!\n"
     ]
    }
   ],
   "source": [
    "if len(mapped_df[mapped_df.duplicated(subset=['id_1', 'table_name'], keep=False)]) == 0:\n",
    "    print('\\n\\tComplete!!')"
   ]
  },
  {
   "cell_type": "code",
   "execution_count": 228,
   "id": "ec00b6f2-b2d4-4fbd-88c2-195151763e85",
   "metadata": {},
   "outputs": [],
   "source": [
    "def md_map_tbl(input_data: pd.DataFrame) -> pd.DataFrame:\n",
    "    ''' Creating a mapping table '''\n",
    "    \n",
    "    tables = input_data.table_name.unique()\n",
    "    map_list = []\n",
    "    for tbl in tables:\n",
    "        df = input_data.loc[input_data.table_name==tbl].reset_index(drop=True)\n",
    "\n",
    "        for id_0 in tqdm(df.id_0.unique()):\n",
    "                ids = df.loc[df.id_0==id_0, 'id_1'].values.tolist()\n",
    "\n",
    "                if len(ids) == 1:\n",
    "                    ids = str(ids[0])\n",
    "\n",
    "                else:\n",
    "                    ids = str(ids)\n",
    "                map_list.append([int(id_0), ids, tbl])\n",
    "    \n",
    "    # assign\n",
    "    mapping_table = pd.DataFrame(map_list, columns=['glowpick_product_info_final_version_id', 'mapped_id', 'table_name'])\n",
    "    \n",
    "    # sort\n",
    "    mapping_table = mapping_table.sort_values(by=['glowpick_product_info_final_version_id', 'table_name']).reset_index(drop=True)\n",
    "    \n",
    "    return mapping_table"
   ]
  },
  {
   "cell_type": "code",
   "execution_count": 229,
   "id": "212d7f2e-8952-423c-9db0-9a2d51a8296a",
   "metadata": {},
   "outputs": [
    {
     "data": {
      "application/vnd.jupyter.widget-view+json": {
       "model_id": "57e8df95ea2945449b317e1f9aa39f8d",
       "version_major": 2,
       "version_minor": 0
      },
      "text/plain": [
       "  0%|          | 0/10911 [00:00<?, ?it/s]"
      ]
     },
     "metadata": {},
     "output_type": "display_data"
    },
    {
     "data": {
      "application/vnd.jupyter.widget-view+json": {
       "model_id": "5e8cbce689c642b28bb9054bc2c1afd9",
       "version_major": 2,
       "version_minor": 0
      },
      "text/plain": [
       "  0%|          | 0/8044 [00:00<?, ?it/s]"
      ]
     },
     "metadata": {},
     "output_type": "display_data"
    },
    {
     "data": {
      "application/vnd.jupyter.widget-view+json": {
       "model_id": "11a6a0511cfc45f9b97b803016dcab06",
       "version_major": 2,
       "version_minor": 0
      },
      "text/plain": [
       "  0%|          | 0/3543 [00:00<?, ?it/s]"
      ]
     },
     "metadata": {},
     "output_type": "display_data"
    },
    {
     "data": {
      "application/vnd.jupyter.widget-view+json": {
       "model_id": "3bcb991fdd9d4c0cba696758e480ce46",
       "version_major": 2,
       "version_minor": 0
      },
      "text/plain": [
       "  0%|          | 0/11390 [00:00<?, ?it/s]"
      ]
     },
     "metadata": {},
     "output_type": "display_data"
    }
   ],
   "source": [
    "map_tbl = md_map_tbl(mapped_df)"
   ]
  },
  {
   "cell_type": "code",
   "execution_count": null,
   "id": "1baa4b3f-ad8a-4e01-8ae2-07a4d2e965a2",
   "metadata": {},
   "outputs": [],
   "source": [
    "with open('/Users/mycelebs_95/Desktop/projects/config/info_table_id_dict.txt', 'rb') as f:\n",
    "    table_ids = pickle.load(f)"
   ]
  },
  {
   "cell_type": "code",
   "execution_count": null,
   "id": "7d916d9b-7326-49fa-a638-722a7a6eef7b",
   "metadata": {},
   "outputs": [
    {
     "data": {
      "text/plain": [
       "{'naver_beauty_product_info': '0',\n",
       " 'naver_beauty_product_info_extended_v1_211217': '1',\n",
       " 'naver_beauty_product_info_extended_v2_211231': '2',\n",
       " 'naver_beauty_product_info_extended_v3_220124': '3',\n",
       " 'naver_beauty_product_info_extended_v4_220311': '4'}"
      ]
     },
     "execution_count": 239,
     "metadata": {},
     "output_type": "execute_result"
    }
   ],
   "source": [
    "table_dict = {}\n",
    "table_dict['glowpick_product_info_final_version'] = 'glowpick_product_info_final_version_review' \n",
    "table_dict['naver_beauty_product_info_extended_v1_211217'] = 'naver_beauty_product_info_extended_v1_review_211217'\n",
    "table_dict['naver_beauty_product_info_extended_v2_211231'] = 'naver_beauty_product_info_extended_v2_review_211231'\n",
    "table_dict['naver_beauty_product_info_extended_v3_220124'] = 'naver_beauty_product_info_extended_v3_review_220124'\n",
    "table_dict['naver_beauty_product_info_extended_v4_220311'] = 'naver_beauty_product_info_extended_v4_review_220311'"
   ]
  },
  {
   "cell_type": "code",
   "execution_count": null,
   "id": "bffdf76b-6271-4101-9b7d-b96e845a80c6",
   "metadata": {},
   "outputs": [],
   "source": []
  },
  {
   "cell_type": "markdown",
   "id": "e907607d-b4f6-4ad2-80ec-698f20ed949b",
   "metadata": {},
   "source": [
    "___\n",
    "### find crawling product"
   ]
  },
  {
   "cell_type": "code",
   "execution_count": null,
   "id": "f9471910-98e2-4824-a0c0-6cdd6f6aa6f0",
   "metadata": {},
   "outputs": [],
   "source": []
  }
 ],
 "metadata": {
  "kernelspec": {
   "display_name": "Python 3 (ipykernel)",
   "language": "python",
   "name": "python3"
  },
  "language_info": {
   "codemirror_mode": {
    "name": "ipython",
    "version": 3
   },
   "file_extension": ".py",
   "mimetype": "text/x-python",
   "name": "python",
   "nbconvert_exporter": "python",
   "pygments_lexer": "ipython3",
   "version": "3.9.7"
  }
 },
 "nbformat": 4,
 "nbformat_minor": 5
}
