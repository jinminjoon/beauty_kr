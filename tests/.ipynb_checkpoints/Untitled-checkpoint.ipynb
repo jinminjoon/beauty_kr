{
 "cells": [
  {
   "cell_type": "code",
   "execution_count": 54,
   "id": "a74b6196-fc39-41b3-b46d-8491ae9fab65",
   "metadata": {},
   "outputs": [],
   "source": [
    "# necessary\n",
    "import pandas as pd\n",
    "import numpy as np\n",
    "import pickle\n",
    "from tqdm.auto import tqdm\n",
    "import os\n",
    "import ast\n",
    "import re\n",
    "import time\n",
    "import copy\n",
    "import difflib\n",
    "from itertools import chain, repeat\n",
    "\n",
    "\n",
    "from jellyfish import jaro_distance, jaro_winkler\n",
    "from soynlp.hangle import jamo_levenshtein\n",
    "\n",
    "\n",
    "import sys\n",
    "# cur_dir = os.path.dirname(os.path.realpath(__file__))\n",
    "# root = os.path.abspath(os.path.join(cur_dir, os.pardir, os.pardir))\n",
    "# src = os.path.abspath(os.path.join(cur_dir, os.pardir))\n",
    "# temp = root + '/temp'\n",
    "# sys.path.append(root)\n",
    "# sys.path.append(src)\n",
    "# sys.path.append(temp)\n",
    "    \n",
    "# from access_database import access_db\n",
    "\n",
    "def title_comparison(word_0: str, word_1: str) -> tuple:\n",
    "    \n",
    "    ''' \n",
    "    Compare Product Titles \n",
    "    '''\n",
    "    \n",
    "    non_sp_0 = word_0.replace(' ', '')\n",
    "    non_sp_1 = word_1.replace(' ', '')\n",
    "\n",
    "    len_0 = len(non_sp_0)\n",
    "    len_1 = len(non_sp_1)\n",
    "    max_len = max(len_0, len_1)\n",
    "    min_len = min(len_0, len_1)\n",
    "    \n",
    "    # 토큰 중복 비율 계산\n",
    "    word_sp_0 = word_0.split(' ')\n",
    "    word_sp_1 = word_1.split(' ')\n",
    "    \n",
    "    '''string 종속 여부 체크'''\n",
    "\n",
    "    leng = min(len(word_sp_0), len(word_sp_1))\n",
    "    word_set = list(set(word_sp_0) & set(word_sp_1))\n",
    "    dep_cnt = len(word_set)\n",
    "    dep_ratio = dep_cnt / leng\n",
    "\n",
    "    # calculate similarity\n",
    "    cost = jamo_levenshtein(non_sp_0, non_sp_1)\n",
    "    sim = (max_len - cost) / max_len\n",
    "\n",
    "    return round(dep_ratio, 4), dep_cnt, round(sim, 4), max_len, min_len\n",
    "\n",
    "\n",
    "def prd_mapper(input_data_0: pd.DataFrame, input_data_1: pd.DataFrame) -> pd.DataFrame:\n",
    "    \n",
    "    '''  \n",
    "    Compare Product Titles after Grouping Brands and Categories\n",
    "    \n",
    "    Input Data \n",
    "    - input_data_0: Mapping Criteria Table\n",
    "    - input_data_1: Mapping Target Table\n",
    "    \n",
    "    ** necessary columns: ['id', 'brand_name', 'product_name', 'category']\n",
    "    \n",
    "    Output Data \n",
    "    - compared_df: Product name comparison table \n",
    "    \n",
    "    '''\n",
    "    \n",
    "    \n",
    "    # Required column for product name comparison\n",
    "    columns_necessary = ['id', 'brand_name', 'product_name', 'category', 'table_name']\n",
    "    df_notnull_0 = input_data_0[input_data_0.product_name.notnull()].loc[:, columns_necessary].reset_index(drop=True)\n",
    "    df_notnull_0.loc[:, 'brand_name'] = df_notnull_0.brand_name.str.replace(' ', '').str.lower()\n",
    "    df_notnull_1 = input_data_1[input_data_1.product_name.notnull()].loc[:, columns_necessary].reset_index(drop=True)\n",
    "    df_notnull_1.loc[:, 'brand_name'] = df_notnull_1.brand_name.str.replace(' ', '').str.lower()\n",
    "    \n",
    "    brands = df_notnull_1.brand_name.unique()\n",
    "    categories = df_notnull_1.category.unique()\n",
    "\n",
    "    columns = ['id_1', 'id_0', 'title_1', 'title_0', 'brand_name', 'table_name', 'category_1', 'category_0', 'similarity', 'dependency', 'max_length', 'min_length', 'dependency_ratio', 'dependency_count']\n",
    "    compared_df = pd.DataFrame(columns=columns)\n",
    "\n",
    "    # group by brand_name\n",
    "    brd_grp_0 = df_notnull_0.groupby('brand_name')\n",
    "    brd_grp_1 = df_notnull_1.groupby('brand_name')\n",
    "    for brand in tqdm(brands):\n",
    "        df_brd_1 = brd_grp_1.get_group(brand).reset_index(drop=True)\n",
    "        try:\n",
    "            df_brd_0 = brd_grp_0.get_group(brand).reset_index(drop=True)\n",
    "    \n",
    "        # 매핑 기준 테이블에 해당 브랜드가 존재하지 않는 경우 \n",
    "        except KeyError:\n",
    "            continue\n",
    "        \n",
    "        for idx_1 in range(len(df_brd_1)):\n",
    "            id_1, categ_1, title_1, tbl = df_brd_1.loc[idx_1, ['id', 'category', 'product_name', 'table_name']]\n",
    "\n",
    "            # brand grouping\n",
    "            df = pd.DataFrame(columns=columns)\n",
    "            ck = 0\n",
    "            for idx_0 in range(len(df_brd_0)):\n",
    "                id_0, categ_0, title_0 = df_brd_0.loc[idx_0, ['id', 'category', 'product_name']]\n",
    "\n",
    "                # category grouping\n",
    "                if categ_1 == categ_0:\n",
    "                    # product name comparing\n",
    "                    compare_output = title_comparison(title_1, title_0)\n",
    "                    sim = compare_output[0]\n",
    "\n",
    "                    # similarity = 1 -> break\n",
    "                    if sim == 1:\n",
    "                        compared_df.loc[len(compared_df)] = (id_1, id_0, title_1, title_0, brand, tbl, categ_1, categ_0) + compare_output\n",
    "                        ck = 1\n",
    "                        break\n",
    "\n",
    "                    else:\n",
    "                        df.loc[len(df)] = (id_1, id_0, title_1, title_0, brand, tbl, categ_1, categ_0) + compare_output\n",
    "\n",
    "                else:\n",
    "                    pass\n",
    "\n",
    "            # data assigning to DataFrame\n",
    "            if ck == 1:\n",
    "                pass\n",
    "\n",
    "            elif len(df) == 0:\n",
    "                pass\n",
    "\n",
    "            else:\n",
    "                compared_df = pd.concat([compared_df, df])\n",
    "    \n",
    "    compared_df = compared_df.reset_index(drop=True)\n",
    "                \n",
    "    return compared_df\n",
    "\n",
    "\n",
    "def select_mapped_prd(input_data: pd.DataFrame) -> pd.DataFrame:\n",
    "    \n",
    "    '''  \n",
    "    Select Mapped Products by Criteria You Define\n",
    "    \n",
    "    Input Data \n",
    "    - input_data: Product name comparison table\n",
    "    \n",
    "    ** necessary columns = ['id_1', 'id_0', 'title_1', 'title_0', 'brand_name', 'table_name', 'category_1', 'category_0', 'similarity', 'dependency', 'max_length', 'min_length', 'dependency_ratio', 'dependency_count']\n",
    "    \n",
    "    Output Data \n",
    "    - mapped_df: Product Name Mapping Complete Table\n",
    "    \n",
    "    '''\n",
    "    \n",
    "    params = {\n",
    "        'min_length': 6, # product name minimum length\n",
    "        'min_token': 3, # product name token minimum length\n",
    "        'levenshtein_similarity': round(5/6, 4) # similarity minimum value\n",
    "    }\n",
    "\n",
    "    min_len = params['min_length']\n",
    "    min_tk = params['min_token']\n",
    "    min_sim = params['levenshtein_similarity']\n",
    "    \n",
    "    compared_df = input_data.copy()\n",
    "    # mapping group 0: simimlarity == 1 & min_length >= min_len\n",
    "    grp_0 = compared_df[(compared_df.similarity==1) & (compared_df.min_length>=min_len)]\n",
    "    grp_sim = grp_0.sort_values(by=['id_1', 'dependency_ratio', 'dependency_count', 'similarity'], ascending=False).reset_index(drop=True)\n",
    "\n",
    "    # mapping group 1: simimlarity != 1 & dependency_ratio = 1 & min_length >= min_len\n",
    "    grp_1 = compared_df[(compared_df.similarity!=1) & (compared_df.dependency_ratio==1) & (compared_df.min_length>=min_len)].sort_values(by=['id_1', 'dependency_count', 'similarity'], ascending=False)\n",
    "    grp_dedup = grp_1.drop_duplicates(subset=['id_1'], keep='first').reset_index(drop=True)\n",
    "\n",
    "    # mapping group 2: simimlarity != 1 & dependency_ratio != 1 & min_length >= min_len\n",
    "    df_dedup = pd.concat([compared_df, grp_sim, grp_dedup]).drop_duplicates(subset=['id_1'], keep=False).reset_index(drop=True)\n",
    "    grp_2 = df_dedup[df_dedup.min_length>=min_len].reset_index(drop=True)\n",
    "\n",
    "    # calculate levenshtein distance\n",
    "    for idx in tqdm(range(len(grp_2))):\n",
    "        s0 = grp_2.loc[idx, 'title_0'].replace(' ', '')\n",
    "        s1 = grp_2.loc[idx, 'title_1'].replace(' ', '')\n",
    "        sim = grp_2.loc[idx, 'similarity']\n",
    "        winkler = jaro_winkler(s0, s1)\n",
    "        grp_2.loc[idx, 'jaro_winker'] = round(winkler, 4)\n",
    "    \n",
    "    # mapping group 3: simimlarity != 1 & dependency_ratio != 1 & min_length >= min_len & levenshtein_similarity >= min_sim\n",
    "    grp_levenshtein = grp_2.loc[(grp_2.similarity>=min_sim)].reset_index(drop=True)\n",
    "\n",
    "    mapped_df = pd.concat([grp_sim, grp_dedup, grp_levenshtein]).sort_values('id_1').reset_index(drop=True)\n",
    "\n",
    "    return mapped_df\n",
    "\n",
    "\n",
    "def md_map_tbl(input_data: pd.DataFrame) -> pd.DataFrame:\n",
    "    \n",
    "    # with open('./config/info_table_id_dict.txt', 'rb') as f:\n",
    "    #     info_table_id_dict = pickle.load(f)    \n",
    "    # table_id = info_table_id_dict[table_name]\n",
    "    \n",
    "    mapping_table = pd.DataFrame(columns=['glowpick_product_info_final_version_id', 'mapped_id', 'table_name'])\n",
    "    for table_name in input_data.table_name.unique():\n",
    "        \n",
    "        mapped_df = input_data.loc[input_data.table_name==table_name].reset_index(drop=True)\n",
    "\n",
    "        for id_0 in tqdm(mapped_df.id_0.unique()):\n",
    "\n",
    "            ids = mapped_df.loc[mapped_df.id_0==id_0, 'id_1'].values.tolist()\n",
    "\n",
    "            if len(ids) == 1:\n",
    "                ids = str(ids[0])\n",
    "\n",
    "            else:\n",
    "                ids = str(ids)\n",
    "\n",
    "            mapping_table.loc[len(mapping_table)] = int(id_0), ids, table_name\n",
    "\n",
    "    \n",
    "    return mapping_table\n",
    "\n",
    "\n",
    "def concat_map_tbl():\n",
    "    \n",
    "    ''' new mapping table concat '''\n",
    "\n",
    "    mapping_table = pd.DataFrame()\n",
    "    \n",
    "    files = [f for f in os.listdir(temp) if re.match(r'mapping_table_[0-9].csv', f)]\n",
    "    for table in files:\n",
    "        tbl = pd.read_csv(temp + f'/{table}')\n",
    "        mapping_table = pd.concat([mapping_table, tbl])\n",
    "    mapping_table = mapping_table.reset_index(drop=True)\n",
    "    \n",
    "    mapping_table.to_csv(temp + '/mapping_table.csv', index=False)\n",
    "    \n",
    "    return None\n",
    "\n",
    "\n",
    "def update_map_tbl(user_name, password, db_name):\n",
    "    \n",
    "    ''' update mapping table '''\n",
    "    db = access_db.AccessDataBase(user_name, password, db_name)\n",
    "    \n",
    "    # get existing mapping table to db\n",
    "    map_tbl_ex = db.get_tbl(db_name, 'naver_glowpick_mapping_table', 'all') \n",
    "    # get new mapping table to dir(temp)\n",
    "    map_tbl_new = pd.read_csv(temp + '/mapping_table.csv')\n",
    "    \n",
    "        \n",
    "    df_concat = pd.concat([map_tbl_ex, map_tbl_new]).reset_index(drop=True)\n",
    "\n",
    "    # updated mapping table\n",
    "    map_tbl = pd.DataFrame(columns=map_tbl_new.columns)\n",
    "\n",
    "    for tbl in df_concat.table_name.unique():\n",
    "        df_tbl = df_concat[df_concat.table_name==tbl]\n",
    "        \n",
    "        for id_ in tqdm(df_tbl.glowpick_product_info_final_version_id.unique()):\n",
    "            mapped_id = df_tbl.loc[df_tbl.glowpick_product_info_final_version_id==id_, 'mapped_id']\n",
    "            \n",
    "            mapped_ids = []\n",
    "            for ids in mapped_id:\n",
    "                if ids[0] == '[':\n",
    "                    ids = ast.literal_eval(ids)\n",
    "                    mapped_ids += ids\n",
    "                \n",
    "                else:\n",
    "                    mapped_ids.append(int(ids))\n",
    "            \n",
    "            mapped_ids = list(set(mapped_ids))\n",
    "            if len(mapped_ids) == 0:\n",
    "                print('wrn')\n",
    "                break\n",
    "            \n",
    "            elif len(mapped_ids) == 1:\n",
    "                mapped_ids = str(mapped_ids[0])\n",
    "\n",
    "            else:\n",
    "                mapped_ids = str(mapped_ids)\n",
    "\n",
    "                \n",
    "            map_tbl.loc[len(map_tbl)] = int(id_), str(mapped_ids), str(tbl)\n",
    "            \n",
    "    map_tbl = map_tbl.sort_values(by=['glowpick_product_info_final_version_id', 'table_name']).reset_index(drop=True)\n",
    "    map_tbl.to_csv(temp + '/naver_glowpick_mapping_table.csv', index=False)\n",
    "\n",
    "    # dup check\n",
    "    dup = map_tbl[map_tbl.duplicated(subset=['glowpick_product_info_final_version_id', 'table_name'], keep=False)]\n",
    "    if len(dup) == 0:\n",
    "        comment = 'Mapping table update complete!'\n",
    "    \n",
    "    else:\n",
    "        comment = 'Duplicate check required!'\n",
    "    \n",
    "    unq_prd_0 = len(map_tbl.glowpick_product_info_final_version_id.unique())\n",
    "    unq_prd_1 = (map_tbl.mapped_id.str.count(',') + 1).sum()\n",
    "    \n",
    "    return comment, unq_prd_0, unq_prd_1\n",
    "    \n",
    "    \n",
    "def upload_map_tbl(user_name, password, db_name, table_name, columns):\n",
    "    \n",
    "    ''' upload mapping table \n",
    "    \n",
    "    <업로드 조건> \n",
    "    ** 기존 매핑 테이블 오늘 날짜로 백업 완료\n",
    "    ** db에서 매핑테이블 생성 및 컬럼명 일치 여부 확인 \n",
    "     \n",
    "    '''\n",
    "    db = access_db.AccessDataBase(user_name, password, db_name)\n",
    "    \n",
    "    map_tbl = pd.read_csv(temp + '/naver_glowpick_mapping_table.csv').loc[:, columns]\n",
    "    \n",
    "    db.engine_upload(map_tbl, db_name, table_name)\n",
    "    \n",
    "    comment = 'Mapping table upload is complete!'\n",
    "    \n",
    "    return comment"
   ]
  },
  {
   "cell_type": "code",
   "execution_count": null,
   "id": "481f6db0-bfd6-40be-8d12-b22fc8c991b3",
   "metadata": {},
   "outputs": [],
   "source": []
  },
  {
   "cell_type": "code",
   "execution_count": null,
   "id": "215b81de-8b48-402a-a942-2143e085e292",
   "metadata": {},
   "outputs": [],
   "source": []
  },
  {
   "cell_type": "code",
   "execution_count": null,
   "id": "ee1d8203-d8cb-432c-b857-c038b90c32cc",
   "metadata": {},
   "outputs": [],
   "source": []
  },
  {
   "cell_type": "code",
   "execution_count": null,
   "id": "d12c077d-e444-4429-af43-b58877cc6290",
   "metadata": {},
   "outputs": [],
   "source": []
  },
  {
   "cell_type": "code",
   "execution_count": null,
   "id": "0010cccf-1201-4a17-a35b-3e94378b3aa5",
   "metadata": {},
   "outputs": [],
   "source": []
  },
  {
   "cell_type": "code",
   "execution_count": null,
   "id": "916be5bf-6c60-488e-8a8d-4d3884e5c869",
   "metadata": {},
   "outputs": [],
   "source": []
  },
  {
   "cell_type": "code",
   "execution_count": null,
   "id": "17e20806-03eb-44d5-9bb0-ff22afa4ea6c",
   "metadata": {},
   "outputs": [],
   "source": []
  },
  {
   "cell_type": "code",
   "execution_count": null,
   "id": "5ce00b1a-41f3-4ca1-98ec-21f4a30a547a",
   "metadata": {},
   "outputs": [],
   "source": []
  },
  {
   "cell_type": "code",
   "execution_count": 63,
   "id": "ec609db4-ab07-4264-ad19-9d726600b074",
   "metadata": {},
   "outputs": [
    {
     "data": {
      "application/vnd.jupyter.widget-view+json": {
       "model_id": "81ec4e910b2444039b8be08d3f0b34da",
       "version_major": 2,
       "version_minor": 0
      },
      "text/plain": [
       "  0%|          | 0/28078 [00:00<?, ?it/s]"
      ]
     },
     "metadata": {},
     "output_type": "display_data"
    }
   ],
   "source": [
    "df_0 = pd.read_csv('deprepro_categ_0.csv')\n",
    "df_1 = pd.read_csv('deprepro_categ_1.csv')\n",
    "\n",
    "# concat, drop category null, length condition check\n",
    "df_concat = pd.concat([df_0, df_1])\n",
    "df_concat_ = df_concat[df_concat.category.notnull()].reset_index(drop=True)\n",
    "df_concat_.loc[:, 'product_name_'] = df_concat_.product_name.str.replace(' ', '')\n",
    "df_concat_.loc[:, 'length'] = df_concat_.product_name_.str.len()\n",
    "df_len = df_concat_[df_concat_.length >= 6].reset_index(drop=True)\n",
    "\n",
    "# find duplicate\n",
    "subset = ['brand_name', 'category', 'product_name_']\n",
    "df_dup = df_len[df_len.duplicated(subset=subset, keep=False)]\n",
    "\n",
    "# grouping \n",
    "df_grp = df_dup.groupby(subset)\n",
    "grp_index = df_grp.size().index\n",
    "\n",
    "# 브랜드, 카테고리, 상품명 모두 일치하는 상품들 그룹핑 후 매핑 \n",
    "columns=['glowpick_product_info_final_version_id', 'mapped_id', 'table_name'] \n",
    "df_map = pd.DataFrame(columns=columns)\n",
    "\n",
    "for idx in tqdm(grp_index):\n",
    "    # 하나의 (brand_name, category, product_name) 유니크 그룹\n",
    "    df = df_grp.get_group(idx)\n",
    "    \n",
    "    # 글로우픽 기준으로 매핑 작업 \n",
    "    if 'glowpick_product_info_final_version' in df.table_name.tolist():\n",
    "        id_ = df.loc[df.table_name=='glowpick_product_info_final_version'].id.tolist()[0]        \n",
    "        tbls = df.loc[df.table_name!='glowpick_product_info_final_version'].table_name.unique().tolist()\n",
    "        \n",
    "        for tbl in tbls:\n",
    "            mapped_ids = df.loc[df.table_name==tbl].id.tolist()\n",
    "            \n",
    "            if len(mapped_ids) == 0:\n",
    "                continue\n",
    "\n",
    "            elif len(mapped_ids) == 1:\n",
    "                mapped_id = str(mapped_ids[0])\n",
    "\n",
    "            else:\n",
    "                mapped_id = str(mapped_ids)\n",
    "\n",
    "            df_map.loc[len(df_map)] = int(id_), str(mapped_id), str(tbl)\n",
    "            \n",
    "    else:\n",
    "        pass\n",
    "\n",
    "# sorting\n",
    "df_map = df_map.sort_values(by=['glowpick_product_info_final_version_id', 'table_name'])"
   ]
  },
  {
   "cell_type": "code",
   "execution_count": 64,
   "id": "633d8fa8-1c97-4f3d-abcb-daaee05b0725",
   "metadata": {},
   "outputs": [
    {
     "name": "stdout",
     "output_type": "stream",
     "text": [
      "\n",
      "\tComplete!!\n"
     ]
    }
   ],
   "source": [
    "len0 = len(df_map[df_map.duplicated(subset=['glowpick_product_info_final_version_id', 'table_name'], keep=False)])\n",
    "len1 = len(df_map[df_map.duplicated(subset=['mapped_id', 'table_name'], keep=False)])\n",
    "if len0 + len1 == 0:\n",
    "    print('\\n\\tComplete!!')"
   ]
  },
  {
   "cell_type": "code",
   "execution_count": 377,
   "id": "b0569698-f69e-4484-88dc-3c7bc860c9fa",
   "metadata": {},
   "outputs": [],
   "source": [
    "def map_expand(mapping_table: pd.DataFrame) -> pd.DataFrame:\n",
    "    mapping_table = mapping_table.reset_index(drop=True)\n",
    "    \n",
    "    mapping_ = pd.DataFrame(columns=['item_key', 'id', 'table_name'])\n",
    "    \n",
    "    for idx in tqdm(range(len(mapping_table))):\n",
    "        id_0 = mapping_table.iloc[idx, 0]\n",
    "        ids = mapping_table.iloc[idx, 1]\n",
    "        tbl = mapping_table.iloc[idx, 2]\n",
    "        \n",
    "        if ids[0] == '[':\n",
    "            ids = ast.literal_eval(ids)\n",
    "            for id_1 in ids:\n",
    "                mapping_.loc[len(mapping_)] = int(id_0), int(id_1), str(tbl)\n",
    "\n",
    "        else:\n",
    "            id_1 = ids\n",
    "            mapping_.loc[len(mapping_)] = int(id_0), int(id_1), str(tbl)\n",
    "    \n",
    "    return mapping_"
   ]
  },
  {
   "cell_type": "code",
   "execution_count": 378,
   "id": "1ed78032-f185-41cb-a589-5f236100c89a",
   "metadata": {},
   "outputs": [
    {
     "data": {
      "application/vnd.jupyter.widget-view+json": {
       "model_id": "a8ee46873fb74d05893aecb520ef976f",
       "version_major": 2,
       "version_minor": 0
      },
      "text/plain": [
       "  0%|          | 0/18432 [00:00<?, ?it/s]"
      ]
     },
     "metadata": {},
     "output_type": "display_data"
    }
   ],
   "source": [
    "df_map_ = map_expand(df_map)\n"
   ]
  },
  {
   "cell_type": "code",
   "execution_count": 379,
   "id": "ff01f155-4fb7-4632-8ebb-1760d204c291",
   "metadata": {},
   "outputs": [],
   "source": [
    "dup_col = ['id', 'table_name']\n",
    "\n",
    "df_concat = pd.concat([df_1, df_map_.loc[:, dup_col]])\n",
    "df_dedup = df_concat.drop_duplicates(subset=dup_col, keep=False)"
   ]
  },
  {
   "cell_type": "code",
   "execution_count": 380,
   "id": "8a3c05cd-cb6f-4e2e-8545-36ee2c0d4e6e",
   "metadata": {},
   "outputs": [
    {
     "name": "stdout",
     "output_type": "stream",
     "text": [
      "complete!!\n"
     ]
    }
   ],
   "source": [
    "if len(df_1) - len(df_map_) == len(df_dedup):\n",
    "    print('complete!!')"
   ]
  },
  {
   "cell_type": "code",
   "execution_count": 381,
   "id": "abf17349-239f-4b4d-a857-89dc33086007",
   "metadata": {},
   "outputs": [
    {
     "name": "stdout",
     "output_type": "stream",
     "text": [
      "<class 'pandas.core.frame.DataFrame'>\n",
      "Int64Index: 93859 entries, 0 to 117649\n",
      "Data columns (total 10 columns):\n",
      " #   Column            Non-Null Count  Dtype  \n",
      "---  ------            --------------  -----  \n",
      " 0   id                93859 non-null  object \n",
      " 1   brand_name        93859 non-null  object \n",
      " 2   product_name_old  93859 non-null  object \n",
      " 3   selection         93859 non-null  object \n",
      " 4   division          93859 non-null  object \n",
      " 5   groups            93858 non-null  object \n",
      " 6   table_name        93859 non-null  object \n",
      " 7   pk                93859 non-null  float64\n",
      " 8   product_name      93859 non-null  object \n",
      " 9   category          79943 non-null  object \n",
      "dtypes: float64(1), object(9)\n",
      "memory usage: 7.9+ MB\n"
     ]
    }
   ],
   "source": [
    "df_dedup.info()"
   ]
  },
  {
   "cell_type": "code",
   "execution_count": 382,
   "id": "1f775325-8aaa-4f10-a310-877a668d7ab1",
   "metadata": {},
   "outputs": [
    {
     "data": {
      "text/html": [
       "<div>\n",
       "<style scoped>\n",
       "    .dataframe tbody tr th:only-of-type {\n",
       "        vertical-align: middle;\n",
       "    }\n",
       "\n",
       "    .dataframe tbody tr th {\n",
       "        vertical-align: top;\n",
       "    }\n",
       "\n",
       "    .dataframe thead th {\n",
       "        text-align: right;\n",
       "    }\n",
       "</style>\n",
       "<table border=\"1\" class=\"dataframe\">\n",
       "  <thead>\n",
       "    <tr style=\"text-align: right;\">\n",
       "      <th></th>\n",
       "      <th>item_key</th>\n",
       "      <th>id</th>\n",
       "      <th>table_name</th>\n",
       "    </tr>\n",
       "  </thead>\n",
       "  <tbody>\n",
       "  </tbody>\n",
       "</table>\n",
       "</div>"
      ],
      "text/plain": [
       "Empty DataFrame\n",
       "Columns: [item_key, id, table_name]\n",
       "Index: []"
      ]
     },
     "execution_count": 382,
     "metadata": {},
     "output_type": "execute_result"
    }
   ],
   "source": [
    "df_map_[df_map_.duplicated(subset=dup_col, keep=False)]"
   ]
  },
  {
   "cell_type": "code",
   "execution_count": null,
   "id": "d9cda591-0937-4b57-8c66-42accfb967c7",
   "metadata": {},
   "outputs": [
    {
     "data": {
      "application/vnd.jupyter.widget-view+json": {
       "model_id": "7f23ef167ff9498cac26b70042754517",
       "version_major": 2,
       "version_minor": 0
      },
      "text/plain": [
       "  0%|          | 0/6311 [00:00<?, ?it/s]"
      ]
     },
     "metadata": {},
     "output_type": "display_data"
    }
   ],
   "source": [
    "mapped_prds = prd_mapper(df_0, df_1)"
   ]
  },
  {
   "cell_type": "code",
   "execution_count": null,
   "id": "896e8603-94ba-4a68-bda5-56f7a48312ee",
   "metadata": {},
   "outputs": [],
   "source": []
  },
  {
   "cell_type": "code",
   "execution_count": null,
   "id": "ede38bda-04fa-4a43-ad74-7b6fae077e68",
   "metadata": {},
   "outputs": [],
   "source": []
  },
  {
   "cell_type": "code",
   "execution_count": null,
   "id": "01528943-d381-4036-b495-d9bfe2f957cc",
   "metadata": {},
   "outputs": [],
   "source": []
  },
  {
   "cell_type": "code",
   "execution_count": null,
   "id": "baa70c72-af8b-4dcb-b49d-27dede493506",
   "metadata": {},
   "outputs": [],
   "source": []
  },
  {
   "cell_type": "code",
   "execution_count": null,
   "id": "6f2052ff-030c-417b-9fae-152e59fa256d",
   "metadata": {},
   "outputs": [],
   "source": []
  },
  {
   "cell_type": "code",
   "execution_count": null,
   "id": "9b264e48-4340-4728-b957-e85cb581fac9",
   "metadata": {},
   "outputs": [],
   "source": []
  },
  {
   "cell_type": "code",
   "execution_count": 6,
   "id": "a0940c43-0424-42db-b92c-102e9f205505",
   "metadata": {},
   "outputs": [],
   "source": [
    "compared_df = pd.read_csv('compared_prds.csv')"
   ]
  },
  {
   "cell_type": "code",
   "execution_count": 12,
   "id": "d24467c1-961a-4d7d-aaae-8ac437ded60a",
   "metadata": {},
   "outputs": [
    {
     "data": {
      "application/vnd.jupyter.widget-view+json": {
       "model_id": "dc71dce665d144449cfb72b5e22d7a8d",
       "version_major": 2,
       "version_minor": 0
      },
      "text/plain": [
       "  0%|          | 0/692 [00:00<?, ?it/s]"
      ]
     },
     "metadata": {},
     "output_type": "display_data"
    }
   ],
   "source": [
    "mapped_df = select_mapped_prd(compared_df)"
   ]
  },
  {
   "cell_type": "code",
   "execution_count": 20,
   "id": "5dcde22c-1ce2-40cf-a3d6-afb401a1552d",
   "metadata": {},
   "outputs": [],
   "source": [
    "grp_0 = mapped_df[mapped_df.similarity==1]"
   ]
  },
  {
   "cell_type": "code",
   "execution_count": 21,
   "id": "941f3e2f-df1b-4b7c-a974-4d947ba1894a",
   "metadata": {},
   "outputs": [],
   "source": [
    "grp_1 = mapped_df[(mapped_df.similarity!=1) & (mapped_df.dependency_ratio==1)]"
   ]
  },
  {
   "cell_type": "code",
   "execution_count": 22,
   "id": "08d8086d-c251-4458-a0a1-7e5ea4eb3300",
   "metadata": {},
   "outputs": [],
   "source": [
    "grp_2 = mapped_df[(mapped_df.similarity!=1) & (mapped_df.dependency_ratio!=1)]"
   ]
  },
  {
   "cell_type": "code",
   "execution_count": 26,
   "id": "26482278-d36a-4ce4-a72a-967ea4ecdcfa",
   "metadata": {},
   "outputs": [
    {
     "data": {
      "text/plain": [
       "45725"
      ]
     },
     "execution_count": 26,
     "metadata": {},
     "output_type": "execute_result"
    }
   ],
   "source": [
    "len(grp_0) + len(grp_1) + len(grp_2)"
   ]
  },
  {
   "cell_type": "code",
   "execution_count": 55,
   "id": "a102f7f0-152b-4e77-a586-552c60162098",
   "metadata": {},
   "outputs": [
    {
     "data": {
      "application/vnd.jupyter.widget-view+json": {
       "model_id": "bad277e7b476431aab841abedb11f2a7",
       "version_major": 2,
       "version_minor": 0
      },
      "text/plain": [
       "  0%|          | 0/5414 [00:00<?, ?it/s]"
      ]
     },
     "metadata": {},
     "output_type": "display_data"
    },
    {
     "data": {
      "application/vnd.jupyter.widget-view+json": {
       "model_id": "5a7539b0199c4def8dcf06e08315f857",
       "version_major": 2,
       "version_minor": 0
      },
      "text/plain": [
       "  0%|          | 0/8217 [00:00<?, ?it/s]"
      ]
     },
     "metadata": {},
     "output_type": "display_data"
    },
    {
     "data": {
      "application/vnd.jupyter.widget-view+json": {
       "model_id": "5e136c7097934b8f9cb0befd17dfef01",
       "version_major": 2,
       "version_minor": 0
      },
      "text/plain": [
       "  0%|          | 0/7270 [00:00<?, ?it/s]"
      ]
     },
     "metadata": {},
     "output_type": "display_data"
    },
    {
     "data": {
      "application/vnd.jupyter.widget-view+json": {
       "model_id": "74eaa8ca9d944f8e9b7cb694a23eb072",
       "version_major": 2,
       "version_minor": 0
      },
      "text/plain": [
       "  0%|          | 0/2038 [00:00<?, ?it/s]"
      ]
     },
     "metadata": {},
     "output_type": "display_data"
    }
   ],
   "source": [
    "map_0 = md_map_tbl(grp_0)"
   ]
  },
  {
   "cell_type": "code",
   "execution_count": 57,
   "id": "89911c7e-6d2f-4b3a-832b-fb6631e5dea0",
   "metadata": {},
   "outputs": [
    {
     "data": {
      "text/html": [
       "<div>\n",
       "<style scoped>\n",
       "    .dataframe tbody tr th:only-of-type {\n",
       "        vertical-align: middle;\n",
       "    }\n",
       "\n",
       "    .dataframe tbody tr th {\n",
       "        vertical-align: top;\n",
       "    }\n",
       "\n",
       "    .dataframe thead th {\n",
       "        text-align: right;\n",
       "    }\n",
       "</style>\n",
       "<table border=\"1\" class=\"dataframe\">\n",
       "  <thead>\n",
       "    <tr style=\"text-align: right;\">\n",
       "      <th></th>\n",
       "      <th>glowpick_product_info_final_version_id</th>\n",
       "      <th>mapped_id</th>\n",
       "      <th>table_name</th>\n",
       "    </tr>\n",
       "  </thead>\n",
       "  <tbody>\n",
       "    <tr>\n",
       "      <th>5416</th>\n",
       "      <td>34</td>\n",
       "      <td>11</td>\n",
       "      <td>naver_beauty_product_info_extended_v1_211217</td>\n",
       "    </tr>\n",
       "    <tr>\n",
       "      <th>5045</th>\n",
       "      <td>34</td>\n",
       "      <td>24792</td>\n",
       "      <td>naver_beauty_product_info_extended_v3_220124</td>\n",
       "    </tr>\n",
       "    <tr>\n",
       "      <th>5417</th>\n",
       "      <td>35</td>\n",
       "      <td>15</td>\n",
       "      <td>naver_beauty_product_info_extended_v1_211217</td>\n",
       "    </tr>\n",
       "    <tr>\n",
       "      <th>4158</th>\n",
       "      <td>77</td>\n",
       "      <td>20401</td>\n",
       "      <td>naver_beauty_product_info_extended_v3_220124</td>\n",
       "    </tr>\n",
       "    <tr>\n",
       "      <th>5422</th>\n",
       "      <td>88</td>\n",
       "      <td>[46, 52]</td>\n",
       "      <td>naver_beauty_product_info_extended_v1_211217</td>\n",
       "    </tr>\n",
       "    <tr>\n",
       "      <th>...</th>\n",
       "      <td>...</td>\n",
       "      <td>...</td>\n",
       "      <td>...</td>\n",
       "    </tr>\n",
       "    <tr>\n",
       "      <th>22557</th>\n",
       "      <td>111537</td>\n",
       "      <td>[18550, 18552, 18554]</td>\n",
       "      <td>naver_beauty_product_info_extended_v4_220311</td>\n",
       "    </tr>\n",
       "    <tr>\n",
       "      <th>13757</th>\n",
       "      <td>111543</td>\n",
       "      <td>1212</td>\n",
       "      <td>naver_beauty_product_info_extended_v2_211231</td>\n",
       "    </tr>\n",
       "    <tr>\n",
       "      <th>19099</th>\n",
       "      <td>111549</td>\n",
       "      <td>31084</td>\n",
       "      <td>naver_beauty_product_info_extended_v2_211231</td>\n",
       "    </tr>\n",
       "    <tr>\n",
       "      <th>22572</th>\n",
       "      <td>111549</td>\n",
       "      <td>18663</td>\n",
       "      <td>naver_beauty_product_info_extended_v4_220311</td>\n",
       "    </tr>\n",
       "    <tr>\n",
       "      <th>106</th>\n",
       "      <td>111549</td>\n",
       "      <td>[672, 838]</td>\n",
       "      <td>naver_beauty_product_info_extended_v3_220124</td>\n",
       "    </tr>\n",
       "  </tbody>\n",
       "</table>\n",
       "<p>22939 rows × 3 columns</p>\n",
       "</div>"
      ],
      "text/plain": [
       "      glowpick_product_info_final_version_id              mapped_id  \\\n",
       "5416                                      34                     11   \n",
       "5045                                      34                  24792   \n",
       "5417                                      35                     15   \n",
       "4158                                      77                  20401   \n",
       "5422                                      88               [46, 52]   \n",
       "...                                      ...                    ...   \n",
       "22557                                 111537  [18550, 18552, 18554]   \n",
       "13757                                 111543                   1212   \n",
       "19099                                 111549                  31084   \n",
       "22572                                 111549                  18663   \n",
       "106                                   111549             [672, 838]   \n",
       "\n",
       "                                         table_name  \n",
       "5416   naver_beauty_product_info_extended_v1_211217  \n",
       "5045   naver_beauty_product_info_extended_v3_220124  \n",
       "5417   naver_beauty_product_info_extended_v1_211217  \n",
       "4158   naver_beauty_product_info_extended_v3_220124  \n",
       "5422   naver_beauty_product_info_extended_v1_211217  \n",
       "...                                             ...  \n",
       "22557  naver_beauty_product_info_extended_v4_220311  \n",
       "13757  naver_beauty_product_info_extended_v2_211231  \n",
       "19099  naver_beauty_product_info_extended_v2_211231  \n",
       "22572  naver_beauty_product_info_extended_v4_220311  \n",
       "106    naver_beauty_product_info_extended_v3_220124  \n",
       "\n",
       "[22939 rows x 3 columns]"
      ]
     },
     "execution_count": 57,
     "metadata": {},
     "output_type": "execute_result"
    }
   ],
   "source": [
    "map_0.sort_values(by='glowpick_product_info_final_version_id')"
   ]
  },
  {
   "cell_type": "code",
   "execution_count": 66,
   "id": "314e9bbd-f4dd-462b-b31d-9dc29eb84ad2",
   "metadata": {},
   "outputs": [
    {
     "data": {
      "text/html": [
       "<div>\n",
       "<style scoped>\n",
       "    .dataframe tbody tr th:only-of-type {\n",
       "        vertical-align: middle;\n",
       "    }\n",
       "\n",
       "    .dataframe tbody tr th {\n",
       "        vertical-align: top;\n",
       "    }\n",
       "\n",
       "    .dataframe thead th {\n",
       "        text-align: right;\n",
       "    }\n",
       "</style>\n",
       "<table border=\"1\" class=\"dataframe\">\n",
       "  <thead>\n",
       "    <tr style=\"text-align: right;\">\n",
       "      <th></th>\n",
       "      <th>glowpick_product_info_final_version_id</th>\n",
       "      <th>mapped_id</th>\n",
       "      <th>table_name</th>\n",
       "    </tr>\n",
       "  </thead>\n",
       "  <tbody>\n",
       "    <tr>\n",
       "      <th>483</th>\n",
       "      <td>34</td>\n",
       "      <td>11</td>\n",
       "      <td>naver_beauty_product_info_extended_v1_211217</td>\n",
       "    </tr>\n",
       "    <tr>\n",
       "      <th>482</th>\n",
       "      <td>34</td>\n",
       "      <td>24792</td>\n",
       "      <td>naver_beauty_product_info_extended_v3_220124</td>\n",
       "    </tr>\n",
       "    <tr>\n",
       "      <th>484</th>\n",
       "      <td>35</td>\n",
       "      <td>15</td>\n",
       "      <td>naver_beauty_product_info_extended_v1_211217</td>\n",
       "    </tr>\n",
       "    <tr>\n",
       "      <th>515</th>\n",
       "      <td>77</td>\n",
       "      <td>20401</td>\n",
       "      <td>naver_beauty_product_info_extended_v3_220124</td>\n",
       "    </tr>\n",
       "    <tr>\n",
       "      <th>527</th>\n",
       "      <td>88</td>\n",
       "      <td>[52, 46]</td>\n",
       "      <td>naver_beauty_product_info_extended_v1_211217</td>\n",
       "    </tr>\n",
       "    <tr>\n",
       "      <th>...</th>\n",
       "      <td>...</td>\n",
       "      <td>...</td>\n",
       "      <td>...</td>\n",
       "    </tr>\n",
       "    <tr>\n",
       "      <th>17346</th>\n",
       "      <td>111537</td>\n",
       "      <td>[18550, 18552, 18554]</td>\n",
       "      <td>naver_beauty_product_info_extended_v4_220311</td>\n",
       "    </tr>\n",
       "    <tr>\n",
       "      <th>22825</th>\n",
       "      <td>111543</td>\n",
       "      <td>1212</td>\n",
       "      <td>naver_beauty_product_info_extended_v2_211231</td>\n",
       "    </tr>\n",
       "    <tr>\n",
       "      <th>17332</th>\n",
       "      <td>111549</td>\n",
       "      <td>31084</td>\n",
       "      <td>naver_beauty_product_info_extended_v2_211231</td>\n",
       "    </tr>\n",
       "    <tr>\n",
       "      <th>17331</th>\n",
       "      <td>111549</td>\n",
       "      <td>[838, 672]</td>\n",
       "      <td>naver_beauty_product_info_extended_v3_220124</td>\n",
       "    </tr>\n",
       "    <tr>\n",
       "      <th>17333</th>\n",
       "      <td>111549</td>\n",
       "      <td>18663</td>\n",
       "      <td>naver_beauty_product_info_extended_v4_220311</td>\n",
       "    </tr>\n",
       "  </tbody>\n",
       "</table>\n",
       "<p>22933 rows × 3 columns</p>\n",
       "</div>"
      ],
      "text/plain": [
       "      glowpick_product_info_final_version_id              mapped_id  \\\n",
       "483                                       34                     11   \n",
       "482                                       34                  24792   \n",
       "484                                       35                     15   \n",
       "515                                       77                  20401   \n",
       "527                                       88               [52, 46]   \n",
       "...                                      ...                    ...   \n",
       "17346                                 111537  [18550, 18552, 18554]   \n",
       "22825                                 111543                   1212   \n",
       "17332                                 111549                  31084   \n",
       "17331                                 111549             [838, 672]   \n",
       "17333                                 111549                  18663   \n",
       "\n",
       "                                         table_name  \n",
       "483    naver_beauty_product_info_extended_v1_211217  \n",
       "482    naver_beauty_product_info_extended_v3_220124  \n",
       "484    naver_beauty_product_info_extended_v1_211217  \n",
       "515    naver_beauty_product_info_extended_v3_220124  \n",
       "527    naver_beauty_product_info_extended_v1_211217  \n",
       "...                                             ...  \n",
       "17346  naver_beauty_product_info_extended_v4_220311  \n",
       "22825  naver_beauty_product_info_extended_v2_211231  \n",
       "17332  naver_beauty_product_info_extended_v2_211231  \n",
       "17331  naver_beauty_product_info_extended_v3_220124  \n",
       "17333  naver_beauty_product_info_extended_v4_220311  \n",
       "\n",
       "[22933 rows x 3 columns]"
      ]
     },
     "execution_count": 66,
     "metadata": {},
     "output_type": "execute_result"
    }
   ],
   "source": [
    "df_map"
   ]
  }
 ],
 "metadata": {
  "kernelspec": {
   "display_name": "Python 3 (ipykernel)",
   "language": "python",
   "name": "python3"
  },
  "language_info": {
   "codemirror_mode": {
    "name": "ipython",
    "version": 3
   },
   "file_extension": ".py",
   "mimetype": "text/x-python",
   "name": "python",
   "nbconvert_exporter": "python",
   "pygments_lexer": "ipython3",
   "version": "3.9.7"
  }
 },
 "nbformat": 4,
 "nbformat_minor": 5
}
