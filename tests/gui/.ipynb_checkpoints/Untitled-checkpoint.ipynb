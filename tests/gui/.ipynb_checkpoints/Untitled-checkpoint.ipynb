{
 "cells": [
  {
   "cell_type": "code",
   "execution_count": 1,
   "id": "cbaad5e3-0679-4de2-b285-61c10197c104",
   "metadata": {},
   "outputs": [],
   "source": [
    "import os\n",
    "import sys\n",
    "import time\n",
    "import pickle\n",
    "import pandas as pd\n",
    "from tqdm.auto import tqdm\n",
    "# from gui import main\n",
    "\n",
    "cur_dir = os.path.dirname(os.path.realpath('gui'))\n",
    "root = os.path.abspath(os.path.join(cur_dir, os.pardir, os.pardir))\n",
    "src = os.path.abspath(os.path.join(cur_dir, os.pardir))\n",
    "tbl_cache = root + '/tbl_cache'\n",
    "sys.path.append(root)\n",
    "sys.path.append(src)\n",
    "sys.path.append(tbl_cache)\n",
    "\n",
    "from access_database import access_db\n",
    "from mapping import preprocessing\n",
    "from mapping import mapping_product\n",
    "\n",
    "\n",
    "from PyQt5 import uic\n",
    "from PyQt5 import QtCore\n",
    "from PyQt5.QtWidgets import *\n"
   ]
  },
  {
   "cell_type": "code",
   "execution_count": 2,
   "id": "2f32630f-108c-416b-94e5-39f22ceec3df",
   "metadata": {},
   "outputs": [
    {
     "ename": "SyntaxError",
     "evalue": "f-string: unmatched '[' (1317222099.py, line 20)",
     "output_type": "error",
     "traceback": [
      "\u001b[0;36m  File \u001b[0;32m\"/var/folders/tq/vlxq7dp94r94wk3rbxcwtzd80000gn/T/ipykernel_83819/1317222099.py\"\u001b[0;36m, line \u001b[0;32m20\u001b[0m\n\u001b[0;31m    message = f'Progress item: {prg_dict['n'] + 1}  Total: {prg_dict['totla']}'\u001b[0m\n\u001b[0m                                          ^\u001b[0m\n\u001b[0;31mSyntaxError\u001b[0m\u001b[0;31m:\u001b[0m f-string: unmatched '['\n"
     ]
    }
   ],
   "source": [
    "pbar_form = uic.loadUiType(cur_dir + '/form/pbar.ui')[0]\n",
    "\n",
    "class PbarForm(QWidget, pbar_form):\n",
    "    \n",
    "    def __init__(self):\n",
    "        super().__init__()    \n",
    "        self.setupUi(self)\n",
    "        self.thread = ThreadClass()\n",
    "        self.thread.progress.connect(self.update_progress)\n",
    "        self.thread.start()\n",
    "        \n",
    "    def update_progress(self, progress):\n",
    "        # self.pbar.setValue(progress)\n",
    "        prg_dict = progress.format_dict\n",
    "        per = ((prg_dict['n'] + 1) / prg_dict['totla']) * 100\n",
    "        # per = round(per, 0)\n",
    "        self.pbar.setValue(per)\n",
    "        \n",
    "        # prg = str(progress)\n",
    "        message = f'Progress item: {int(prg_dict['n']) + 1}  Total: {prg_dict['totla']}'\n",
    "        self.statusbar.showMessage(message)\n",
    "        \n",
    "            \n",
    "            \n",
    "\n"
   ]
  },
  {
   "cell_type": "code",
   "execution_count": null,
   "id": "0b4a251b-540e-466e-9fc9-cb07001d8b08",
   "metadata": {},
   "outputs": [],
   "source": [
    "class ThreadClass(QtCore.QThread, QtCore.QObject):\n",
    "    progress = QtCore.pyqtSignal(object)\n",
    "    \n",
    "    def __init__(self, parent=None):\n",
    "        super().__init__()\n",
    "        \n",
    "    def run(self):\n",
    "        t = tqdm(range(100))\n",
    "        for e in t:\n",
    "            self.progress.emit(t)\n",
    "            time.sleep(0.1)\n",
    "            \n",
    "    def stop(self):\n",
    "        self.terminate()"
   ]
  },
  {
   "cell_type": "code",
   "execution_count": null,
   "id": "c8668567-073d-4c72-bd5b-2f53e3a9898f",
   "metadata": {},
   "outputs": [],
   "source": [
    "if __name__ == '__main__':\n",
    "    app = QApplication(sys.argv)\n",
    "    form = PbarForm()\n",
    "    form.show()\n",
    "    sys.exit(app.exec_())"
   ]
  },
  {
   "cell_type": "code",
   "execution_count": null,
   "id": "cf58c0f1-f946-4346-bdea-d0ad9c90bdf6",
   "metadata": {},
   "outputs": [],
   "source": []
  }
 ],
 "metadata": {
  "kernelspec": {
   "display_name": "Python 3 (ipykernel)",
   "language": "python",
   "name": "python3"
  },
  "language_info": {
   "codemirror_mode": {
    "name": "ipython",
    "version": 3
   },
   "file_extension": ".py",
   "mimetype": "text/x-python",
   "name": "python",
   "nbconvert_exporter": "python",
   "pygments_lexer": "ipython3",
   "version": "3.9.7"
  }
 },
 "nbformat": 4,
 "nbformat_minor": 5
}
