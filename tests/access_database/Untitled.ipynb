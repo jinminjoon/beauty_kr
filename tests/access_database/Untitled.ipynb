{
 "cells": [
  {
   "cell_type": "code",
   "execution_count": 20,
   "id": "36bda23b-efad-472d-99be-f8b3babe4fdb",
   "metadata": {},
   "outputs": [],
   "source": [
    "# necessary\n",
    "import numpy as np\n",
    "import pandas as pd\n",
    "from tqdm.auto import tqdm\n",
    "\n",
    "# db connection \n",
    "import pymysql\n",
    "from sqlalchemy import create_engine\n",
    "\n",
    "\n",
    "class AccessDataBase():\n",
    "    \n",
    "    def __init__(self, user_name, password, db_name):\n",
    "        self.user_name = user_name\n",
    "        self.password = password\n",
    "        self.db_name = db_name\n",
    "    \n",
    "    def db_connect(self):\n",
    "\n",
    "        ''' db connect '''\n",
    "\n",
    "        host_url = \"db.ds.mycelebs.com\"\n",
    "        port_num = 3306\n",
    "        conn = pymysql.connect(host=host_url, user=self.user_name, passwd=self.password, port=port_num, db=self.db_name, charset='utf8')\n",
    "        curs = conn.cursor(pymysql.cursors.DictCursor)\n",
    "        return curs\n",
    "\n",
    "    \n",
    "    def get_tbl(self, table_name, columns):\n",
    "        \n",
    "        ''' db에서 원하는 테이블, 컬럼 pd.DataFrame에 할당 '''\n",
    "        \n",
    "        curs = self.db_connect()\n",
    "        \n",
    "        if columns == 'all':\n",
    "            sql_query = f'SELECT * FROM {table_name};'\n",
    "            \n",
    "        \n",
    "        else:\n",
    "            # SELECT columns\n",
    "            sql_query = 'SELECT '\n",
    "            i = 0\n",
    "            for col in columns:\n",
    "                if i == 0:\n",
    "                    sql_query += col\n",
    "\n",
    "                else:\n",
    "                    sql_query += ', ' + col\n",
    "\n",
    "                i += 1\n",
    "\n",
    "            # FROM table_name\n",
    "            sql_query += f' FROM {table_name};'\n",
    "        \n",
    "        curs.execute(sql_query)\n",
    "        tbl = curs.fetchall()\n",
    "        df = pd.DataFrame(tbl)\n",
    "        curs.close()\n",
    "        \n",
    "        return df\n",
    "\n",
    "    def engine_upload(self, upload_df, table_name, if_exists_option):\n",
    "        ''' Create Table '''\n",
    "        \n",
    "        host_url = \"db.ds.mycelebs.com\"\n",
    "        port_num = 3306\n",
    "        engine = create_engine(f'mysql+pymysql://{self.user_name}:{self.password}@{host_url}:{port_num}/{self.db_name}?charset=utf8mb4')\n",
    "        engine_conn = engine.connect()\n",
    "        upload_df.to_sql(table_name, engine_conn, if_exists=if_exists_option, index=None)\n",
    "        engine_conn.close()\n",
    "        engine.dispose()\n",
    "        \n",
    "        "
   ]
  },
  {
   "cell_type": "code",
   "execution_count": 21,
   "id": "026b1e4f-4d9e-45b8-9923-56ac0d3b38b6",
   "metadata": {},
   "outputs": [],
   "source": [
    "un = 'yeonseosla'\n",
    "pw = 'jys9807'\n",
    "sm = 'beauty_kr'\n",
    "\n",
    "db = AccessDataBase(un, pw, sm)"
   ]
  },
  {
   "cell_type": "code",
   "execution_count": 22,
   "id": "2641f274-a14e-4197-bce5-34e39374159d",
   "metadata": {},
   "outputs": [],
   "source": [
    "# df = pd.DataFrame([[0,1], [1,1], [2,0]], columns=['id', 'status'])\n",
    "table_name = 'test_table'\n",
    "db.engine_upload(df, table_name, \"append\")"
   ]
  },
  {
   "cell_type": "code",
   "execution_count": 16,
   "id": "03e922cf-6971-46ae-81bb-d73b7ca93211",
   "metadata": {},
   "outputs": [
    {
     "name": "stdout",
     "output_type": "stream",
     "text": [
      "<class 'pandas.core.frame.DataFrame'>\n",
      "RangeIndex: 3 entries, 0 to 2\n",
      "Data columns (total 4 columns):\n",
      " #   Column  Non-Null Count  Dtype         \n",
      "---  ------  --------------  -----         \n",
      " 0   id      3 non-null      int64         \n",
      " 1   status  3 non-null      int64         \n",
      " 2   date    3 non-null      datetime64[ns]\n",
      " 3   string  3 non-null      object        \n",
      "dtypes: datetime64[ns](1), int64(2), object(1)\n",
      "memory usage: 224.0+ bytes\n"
     ]
    }
   ],
   "source": [
    "# df.loc[:, 'string'] = str([\"a\", \"b\", \"c\"])\n",
    "df.info()"
   ]
  },
  {
   "cell_type": "code",
   "execution_count": 3,
   "id": "e251c948-5a77-4344-979b-24c0b3affe9f",
   "metadata": {},
   "outputs": [],
   "source": [
    "def get_tbl_name():\n",
    "    ''' db에 존재하는 모든 테이블 이름 가져오기 '''\n",
    "\n",
    "    curs = db.db_connect()\n",
    "\n",
    "    # get table name list\n",
    "    query = \"SHOW TABLES;\"\n",
    "    curs.execute(query)\n",
    "    tables = curs.fetchall()\n",
    "\n",
    "    table_list = []\n",
    "    for table in tables:\n",
    "        tbl = list(table.values())[0]\n",
    "        table_list.append(tbl)\n",
    "\n",
    "    return table_list"
   ]
  },
  {
   "cell_type": "code",
   "execution_count": 4,
   "id": "63870d68-41d4-4218-964c-d209c1f11fbb",
   "metadata": {},
   "outputs": [],
   "source": [
    "def get_tbl_columns(table_name):\n",
    "    ''' 선택한 테이블 컬럼 가져오기 '''\n",
    "\n",
    "    curs = db.db_connect()\n",
    "\n",
    "    # get table columns \n",
    "    query = f\"SHOW FULL COLUMNS FROM {table_name};\"\n",
    "    curs.execute(query)\n",
    "    columns = curs.fetchall()\n",
    "\n",
    "    column_list = []\n",
    "    for column in columns:\n",
    "        field = column['Field']\n",
    "        column_list.append(field)\n",
    "\n",
    "    return column_list"
   ]
  },
  {
   "cell_type": "code",
   "execution_count": 66,
   "id": "35f5a26e-381b-4c07-901d-e50b7f70ddfd",
   "metadata": {},
   "outputs": [],
   "source": [
    "import re\n",
    "tables = get_tbl_name()\n",
    "reg = re.compile('naver_beauty_product_info_extended_v[0-9]+')\n",
    "table_list = []\n",
    "for tbl in tables:\n",
    "    tbl_ = re.match(reg, tbl)\n",
    "    if tbl_:\n",
    "        table_list.append(tbl_.group(0))\n",
    "        \n",
    "table_list = sorted(list(set(table_list)))\n",
    "    "
   ]
  }
 ],
 "metadata": {
  "kernelspec": {
   "display_name": "Python 3 (ipykernel)",
   "language": "python",
   "name": "python3"
  },
  "language_info": {
   "codemirror_mode": {
    "name": "ipython",
    "version": 3
   },
   "file_extension": ".py",
   "mimetype": "text/x-python",
   "name": "python",
   "nbconvert_exporter": "python",
   "pygments_lexer": "ipython3",
   "version": "3.9.7"
  }
 },
 "nbformat": 4,
 "nbformat_minor": 5
}
